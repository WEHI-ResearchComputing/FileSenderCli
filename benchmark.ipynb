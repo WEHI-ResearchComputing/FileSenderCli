{
 "cells": [
  {
   "cell_type": "code",
   "execution_count": null,
   "metadata": {},
   "outputs": [],
   "source": [
    "from filesender.benchmark import benchmark\n",
    "from os import environ\n",
    "from matplotlib import pyplot as plt\n",
    "\n",
    "x = list(range(10))\n",
    "results = benchmark(x, apikey=environ[\"API_KEY\"], base_url=environ[\"BASE_URL\"], recipient=environ[\"RECIPIENT\"], username=environ[\"USERNAME\"])"
   ]
  },
  {
   "cell_type": "code",
   "execution_count": null,
   "metadata": {},
   "outputs": [],
   "source": [
    "fig, ax = plt.subplots()\n",
    "ax.plot(x, [result.memory for result in results])\n",
    "ax.yaxis.set_label(\"Memory Usage (bytes)\")\n",
    "ax.xaxis.set_label(\"Maximum Concurrency\")\n",
    "fig.suptitle(\"Memory Usage\")"
   ]
  },
  {
   "cell_type": "code",
   "execution_count": null,
   "metadata": {},
   "outputs": [],
   "source": [
    "fig, ax = plt.subplots()\n",
    "ax.plot(x, [result.time for result in results])\n",
    "ax.yaxis.set_label(\"Runtime (seconds)\")\n",
    "ax.xaxis.set_label(\"Maximum Concurrency\")\n",
    "fig.suptitle(\"Runtime\")"
   ]
  }
 ],
 "metadata": {
  "language_info": {
   "name": "python"
  }
 },
 "nbformat": 4,
 "nbformat_minor": 2
}
