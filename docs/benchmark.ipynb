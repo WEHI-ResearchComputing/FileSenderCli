{
 "cells": [
  {
   "cell_type": "markdown",
   "metadata": {},
   "source": [
    "# Benchmarking\n",
    "\n",
    "This notebook explores a key constructor parameter that affects the `FileSenderClient` performance: `concurrent_chunks`. `concurrent_chunks` sets a limit on the number of chunks of file data that can loaded into memory at the same time. Therefore a lower number for this parameter is expected to reduce memory usage but also increase runtime."
   ]
  },
  {
   "cell_type": "markdown",
   "metadata": {},
   "source": [
    "The built-in `benchmark` function can be used to run the comparison. The below code benchmarks an upload using 3 files, each of which is 100 MB. We test a read limit of 1-10 and a request limit of 1-10."
   ]
  },
  {
   "cell_type": "code",
   "execution_count": 1,
   "metadata": {},
   "outputs": [
    {
     "name": "stderr",
     "output_type": "stream",
     "text": [
      "tmpom0d0m4w: 100%|██████████| 8/8 [00:02<00:00,  3.28it/s]\n",
      "tmpm9hndr4l: 100%|██████████| 8/8 [00:02<00:00,  3.50it/s]\n",
      "tmpe10e9bu9: 100%|██████████| 8/8 [00:02<00:00,  3.43it/s]\n",
      "tmpom0d0m4w: 100%|██████████| 8/8 [00:05<00:00,  1.46it/s]\n",
      "tmpm9hndr4l: 100%|██████████| 8/8 [00:04<00:00,  1.84it/s]\n",
      "tmpe10e9bu9: 100%|██████████| 8/8 [00:03<00:00,  2.10it/s]\n",
      "tmpom0d0m4w: 100%|██████████| 8/8 [00:03<00:00,  2.11it/s]\n",
      "tmpm9hndr4l: 100%|██████████| 8/8 [00:03<00:00,  2.65it/s]\n",
      "tmpe10e9bu9: 100%|██████████| 8/8 [00:02<00:00,  3.62it/s]\n",
      "tmpom0d0m4w: 100%|██████████| 8/8 [00:02<00:00,  2.70it/s]\n",
      "tmpm9hndr4l: 100%|██████████| 8/8 [00:03<00:00,  2.44it/s]\n",
      "tmpe10e9bu9: 100%|██████████| 8/8 [00:02<00:00,  2.80it/s]\n",
      "tmpom0d0m4w: 100%|██████████| 8/8 [00:02<00:00,  2.71it/s]\n",
      "tmpm9hndr4l: 100%|██████████| 8/8 [00:01<00:00,  4.18it/s]\n",
      "tmpe10e9bu9: 100%|██████████| 8/8 [00:01<00:00,  4.42it/s]\n"
     ]
    }
   ],
   "source": [
    "from filesender.benchmark import benchmark, make_tempfiles\n",
    "from os import environ\n",
    "\n",
    "with make_tempfiles(size=100_000_000, n=3) as paths:\n",
    "    results = benchmark(paths, limit=6, apikey=environ[\"API_KEY\"], base_url=environ[\"BASE_URL\"], recipient=environ[\"RECIPIENT\"], username=environ[\"USERNAME\"])"
   ]
  },
  {
   "cell_type": "markdown",
   "metadata": {},
   "source": [
    "Transform the results into a data frame for analysis:"
   ]
  },
  {
   "cell_type": "code",
   "execution_count": 3,
   "metadata": {},
   "outputs": [
    {
     "data": {
      "text/html": [
       "<div>\n",
       "<style scoped>\n",
       "    .dataframe tbody tr th:only-of-type {\n",
       "        vertical-align: middle;\n",
       "    }\n",
       "\n",
       "    .dataframe tbody tr th {\n",
       "        vertical-align: top;\n",
       "    }\n",
       "\n",
       "    .dataframe thead th {\n",
       "        text-align: right;\n",
       "    }\n",
       "</style>\n",
       "<table border=\"1\" class=\"dataframe\">\n",
       "  <thead>\n",
       "    <tr style=\"text-align: right;\">\n",
       "      <th></th>\n",
       "      <th>time</th>\n",
       "      <th>memory</th>\n",
       "      <th>concurrent_chunks</th>\n",
       "    </tr>\n",
       "  </thead>\n",
       "  <tbody>\n",
       "    <tr>\n",
       "      <th>0</th>\n",
       "      <td>7.708177</td>\n",
       "      <td>0.195992</td>\n",
       "      <td>1</td>\n",
       "    </tr>\n",
       "    <tr>\n",
       "      <th>1</th>\n",
       "      <td>14.282335</td>\n",
       "      <td>0.350613</td>\n",
       "      <td>2</td>\n",
       "    </tr>\n",
       "    <tr>\n",
       "      <th>2</th>\n",
       "      <td>9.678596</td>\n",
       "      <td>0.401077</td>\n",
       "      <td>3</td>\n",
       "    </tr>\n",
       "    <tr>\n",
       "      <th>3</th>\n",
       "      <td>9.738843</td>\n",
       "      <td>0.406414</td>\n",
       "      <td>4</td>\n",
       "    </tr>\n",
       "    <tr>\n",
       "      <th>4</th>\n",
       "      <td>7.315477</td>\n",
       "      <td>0.418480</td>\n",
       "      <td>5</td>\n",
       "    </tr>\n",
       "  </tbody>\n",
       "</table>\n",
       "</div>"
      ],
      "text/plain": [
       "        time    memory  concurrent_chunks\n",
       "0   7.708177  0.195992                  1\n",
       "1  14.282335  0.350613                  2\n",
       "2   9.678596  0.401077                  3\n",
       "3   9.738843  0.406414                  4\n",
       "4   7.315477  0.418480                  5"
      ]
     },
     "execution_count": 3,
     "metadata": {},
     "output_type": "execute_result"
    }
   ],
   "source": [
    "import pandas as pd\n",
    "result_df = pd.DataFrame.from_records(vars(result) for result in results)\n",
    "result_df.memory = result_df.memory / 1024 ** 2\n",
    "result_df"
   ]
  },
  {
   "cell_type": "markdown",
   "metadata": {},
   "source": [
    "The memory usage consistently increases as we increase the number of concurrent chunks, as expect.\n",
    "What is more unusual is that the time doesn't follow a consistent pattern in relation to the number of chunks"
   ]
  }
 ],
 "metadata": {
  "kernelspec": {
   "display_name": "FileSender",
   "language": "python",
   "name": "filesender"
  },
  "language_info": {
   "codemirror_mode": {
    "name": "ipython",
    "version": 3
   },
   "file_extension": ".py",
   "mimetype": "text/x-python",
   "name": "python",
   "nbconvert_exporter": "python",
   "pygments_lexer": "ipython3",
   "version": "3.11.4"
  }
 },
 "nbformat": 4,
 "nbformat_minor": 2
}
